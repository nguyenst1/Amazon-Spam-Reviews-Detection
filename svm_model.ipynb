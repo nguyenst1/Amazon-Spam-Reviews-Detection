{
 "cells": [
  {
   "cell_type": "code",
   "execution_count": null,
   "metadata": {},
   "outputs": [],
   "source": [
    "import csv                          \n",
    "from sklearn.svm import LinearSVC\n",
    "from nltk.classify import SklearnClassifier\n",
    "from random import shuffle\n",
    "import numpy as np\n",
    "import nltk\n",
    "from nltk.tokenize import word_tokenize\n",
    "nltk.download('punkt')\n"
   ]
  },
  {
   "cell_type": "code",
   "execution_count": null,
   "metadata": {},
   "outputs": [],
   "source": [
    "# import svm package\n",
    "from sklearn.pipeline import Pipeline\n",
    "from sklearn.feature_extraction.text import CountVectorizer\n",
    "from sklearn.metrics import precision_recall_fscore_support\n",
    "from sklearn.metrics import accuracy_score"
   ]
  },
  {
   "cell_type": "markdown",
   "metadata": {},
   "source": [
    "### Functions that will be used for training the model"
   ]
  },
  {
   "cell_type": "code",
   "execution_count": null,
   "metadata": {},
   "outputs": [],
   "source": [
    "def loadData(path, Text=None):\n",
    "    with open(path) as f:\n",
    "        reader = csv.reader(f, delimiter='\\t')\n",
    "        next(reader)\n",
    "        for line in reader:\n",
    "            (Id, Text, Label) = parseReview(line)\n",
    "            rawData.append((Id, Text, Label))\n",
    "            preprocessedData.append((Id, preProcess(Text), Label))\n",
    "        \n",
    "def splitData(percentage):\n",
    "    dataSamples = len(rawData)\n",
    "    halfOfData = int(len(rawData)/2)\n",
    "    trainingSamples = int((percentage*dataSamples)/2)\n",
    "    for (_, Text, Label) in rawData[:trainingSamples] + rawData[halfOfData:halfOfData+trainingSamples]:\n",
    "        trainData.append((toFeatureVector(preProcess(Text)),Label))\n",
    "    for (_, Text, Label) in rawData[trainingSamples:halfOfData] + rawData[halfOfData+trainingSamples:]:\n",
    "        testData.append((toFeatureVector(preProcess(Text)),Label))"
   ]
  },
  {
   "cell_type": "code",
   "execution_count": null,
   "metadata": {},
   "outputs": [],
   "source": [
    "def parseReview(reviewLine):\n",
    "    s=\"\"\n",
    "    if reviewLine[1]==\"__label1__\":\n",
    "        s = \"fake\"\n",
    "    else: \n",
    "        s = \"real\"\n",
    "    return (reviewLine[0], reviewLine[8], s)\n",
    "\n",
    "# function that will perform test prepocessing and feature engineering\n",
    "# param: a string of one review\n",
    "def preProcess(text):\n",
    "    return word_tokenize(text)"
   ]
  },
  {
   "cell_type": "code",
   "execution_count": null,
   "metadata": {},
   "outputs": [],
   "source": [
    "featureDict = {} # A global dictionary of features\n",
    "\n",
    "def toFeatureVector(tokens):\n",
    "    localDict = {}\n",
    "    for token in tokens:\n",
    "        if token not in featureDict:\n",
    "            featureDict[token] = 1\n",
    "        else:\n",
    "            featureDict[token] = +1\n",
    "   \n",
    "        if token not in localDict:\n",
    "            localDict[token] = 1\n",
    "        else:\n",
    "            localDict[token] = +1\n",
    "    \n",
    "    return localDict"
   ]
  },
  {
   "cell_type": "code",
   "execution_count": null,
   "metadata": {},
   "outputs": [],
   "source": [
    "# training the classifier and validating\n",
    "def trainClassifier(trainData):\n",
    "    print(\"Training Classifier...\")\n",
    "    pipeline =  Pipeline([('svc', LinearSVC())])\n",
    "    return SklearnClassifier(pipeline).train(trainData)"
   ]
  },
  {
   "cell_type": "code",
   "execution_count": null,
   "metadata": {},
   "outputs": [],
   "source": [
    "def crossValidate(dataset, folds):\n",
    "    shuffle(dataset)\n",
    "    cv_results = []\n",
    "    foldSize = int(len(dataset)/folds)\n",
    "    for i in range(0,len(dataset),foldSize):\n",
    "        classifier = trainClassifier(dataset[:i]+dataset[foldSize+i:])\n",
    "        y_pred = predictLabels(dataset[i:i+foldSize],classifier)\n",
    "        a = accuracy_score(list(map(lambda d : d[1], dataset[i:i+foldSize])), y_pred)\n",
    "        (p,r,f,_) = precision_recall_fscore_support(list(map(lambda d : d[1], dataset[i:i+foldSize])), y_pred, average ='macro')\n",
    "        #print(a,p,r,f)\n",
    "        cv_results.append((a,p,r,f))\n",
    "    cv_results = (np.mean(np.array(cv_results),axis=0))\n",
    "    return cv_results"
   ]
  },
  {
   "cell_type": "code",
   "execution_count": null,
   "metadata": {},
   "outputs": [],
   "source": [
    "# functions predicting product labels given classifier\n",
    "def predictLabels(reviewSamples, classifier):\n",
    "    return classifier.classify_many(map(lambda t: t[0], reviewSamples))\n",
    "\n",
    "def predictLabel(reviewSample, classifier):\n",
    "    return classifier.classify(toFeatureVector(preProcess(reviewSample)))"
   ]
  },
  {
   "cell_type": "markdown",
   "metadata": {},
   "source": [
    "### Start processing data and train the model"
   ]
  },
  {
   "cell_type": "code",
   "execution_count": null,
   "metadata": {},
   "outputs": [],
   "source": [
    "# main code\n",
    "# loading reviews\n",
    "rawData = []          \n",
    "preprocessedData = [] \n",
    "trainData = []        \n",
    "testData = []         \n",
    "\n",
    "fakeLabel = 'fake'\n",
    "realLabel = 'real'\n",
    "\n",
    "reviewPath = 'amazon_reviews.txt'\n",
    "\n",
    "print(len(rawData), len(trainData), len(testData)\n",
    "loadData(reviewPath) \n",
    "\n",
    "print(len(rawData), len(trainData), len(testData))\n",
    "splitData(0.8)\n",
    "\n",
    "print(len(rawData), len(trainData), len(testData))\n",
    "print(\"Mean of cross-validations (Accuracy, Precision, Recall, Fscore): \", crossValidate(trainData, 10))"
   ]
  },
  {
   "cell_type": "code",
   "execution_count": null,
   "metadata": {},
   "outputs": [],
   "source": [
    "# adding lemmatization in features and remove punctuations\n",
    "from nltk.corpus import stopwords\n",
    "from nltk.tokenize import RegexpTokenizer\n",
    "from nltk.stem import WordNetLemmatizer\n",
    "from nltk.util import ngrams\n",
    "import string"
   ]
  },
  {
   "cell_type": "code",
   "execution_count": null,
   "metadata": {},
   "outputs": [],
   "source": [
    "# text processing & vector featurization\n",
    "\n",
    "table = str.maketrans({key: None for key in string.punctuation})\n",
    "\n",
    "def preProcess(text):\n",
    "    # Should return a list of tokens\n",
    "    lemmatizer = WordNetLemmatizer()\n",
    "    filtered_tokens=[]\n",
    "    stop_words = set(stopwords.words('english'))\n",
    "    text = text.translate(table)\n",
    "    for w in text.split(\" \"):\n",
    "        if w not in stop_words:\n",
    "            filtered_tokens.append(lemmatizer.lemmatize(w.lower()))\n",
    "    return filtered_tokens"
   ]
  },
  {
   "cell_type": "code",
   "execution_count": null,
   "metadata": {},
   "outputs": [],
   "source": [
    "rawData = []        \n",
    "preprocessedData = [] \n",
    "trainData = []        \n",
    "testData = []         \n",
    "\n",
    "fakeLabel = 'fake'\n",
    "realLabel = 'real'\n",
    "\n",
    "reviewPath = 'amazon_reviews.txt'\n",
    "\n",
    "print(len(rawData), len(trainData), len(testData))\n",
    "loadData(reviewPath) \n",
    "\n",
    "print(len(rawData), len(trainData), len(testData))\n",
    "splitData(0.8)\n",
    "\n",
    "print(\"Accuracy, Precision, Recall, Fscore: \", crossValidate(trainData, 10))"
   ]
  },
  {
   "cell_type": "code",
   "execution_count": null,
   "metadata": {},
   "outputs": [],
   "source": [
    "# Use bigrams and other values of C in linearsvc func\n",
    "\n",
    "# text processing & vector featurization\n",
    "# Input: a string of one review\n",
    "table = str.maketrans({key: None for key in string.punctuation})\n",
    "def preProcess(text):\n",
    "    # Should return a list of tokens\n",
    "    lemmatizer = WordNetLemmatizer()\n",
    "    filtered_tokens=[]\n",
    "    lemmatized_tokens = []\n",
    "    stop_words = set(stopwords.words('english'))\n",
    "    text = text.translate(table)\n",
    "    for w in text.split(\" \"):\n",
    "        if w not in stop_words:\n",
    "            lemmatized_tokens.append(lemmatizer.lemmatize(w.lower()))\n",
    "        filtered_tokens = [' '.join(l) for l in nltk.bigrams(lemmatized_tokens)] + lemmatized_tokens\n",
    "    return filtered_tokens"
   ]
  },
  {
   "cell_type": "code",
   "execution_count": null,
   "metadata": {},
   "outputs": [],
   "source": [
    "# training the classifier\n",
    "def trainClassifier(trainData):\n",
    "    print(\"Training Classifier...\")\n",
    "    pipeline =  Pipeline([('svc', LinearSVC(C=0.01))])\n",
    "    return SklearnClassifier(pipeline).train(trainData)"
   ]
  },
  {
   "cell_type": "code",
   "execution_count": null,
   "metadata": {},
   "outputs": [],
   "source": [
    "# main program\n",
    "rawData = []          \n",
    "preprocessedData = [] \n",
    "trainData = []        \n",
    "testData = []         \n",
    "\n",
    "# output\n",
    "fakeLabel = 'fake'\n",
    "realLabel = 'real'\n",
    "\n",
    "reviewPath = 'amazon_reviews.txt'\n",
    "\n",
    "print(len(rawData), len(trainData), len(testData))\n",
    "loadData(reviewPath) \n",
    "\n",
    "# split the raw dataset into training and testing 80:20\n",
    "splitData(0.8)\n",
    "\n",
    "# number of training samples and the number of features\n",
    "print(\"length of data, length of trainset, length of testset\" % (len(rawData), len(trainData), len(testData)),\n",
    "      \"no of training samples: \", len(trainData), \"no of features \", len(featureDict), sep='\\n')\n",
    "print(\"Mean of cross-validations (Accuracy, Precision, Recall, Fscore): \", crossValidate(trainData, 10))\n"
   ]
  },
  {
   "cell_type": "code",
   "execution_count": null,
   "metadata": {},
   "outputs": [],
   "source": [
    "# adding extra features suc as rating, verified purchase, product category, ...\n",
    "\n",
    "# load data from a file and append it to the rawData\n",
    "def loadData(path, Text=None):\n",
    "    with open(path) as f:\n",
    "        reader = csv.reader(f, delimiter='\\t')\n",
    "        next(reader)\n",
    "        for line in reader:\n",
    "            (Id, Rating, verified_Purchase, product_Category, Text, Label) = parseReview(line)\n",
    "            rawData.append((Id, Rating, verified_Purchase, product_Category, Text, Label))\n",
    "        \n",
    "def splitData(percentage):\n",
    "    dataSamples = len(rawData)\n",
    "    halfOfData = int(len(rawData)/2)\n",
    "    trainingSamples = int((percentage*dataSamples)/2)\n",
    "    for (_, Rating, verified_Purchase, product_Category, Text, Label) in rawData[:trainingSamples] + rawData[halfOfData:halfOfData+trainingSamples]:\n",
    "        trainData.append((toFeatureVector(Rating, verified_Purchase, product_Category, preProcess(Text)),Label))\n",
    "    for (_, Rating, verified_Purchase, product_Category, Text, Label) in rawData[trainingSamples:halfOfData] + rawData[halfOfData+trainingSamples:]:\n",
    "        testData.append((toFeatureVector(Rating, verified_Purchase, product_Category, preProcess(Text)),Label))"
   ]
  },
  {
   "cell_type": "code",
   "execution_count": null,
   "metadata": {},
   "outputs": [],
   "source": [
    "# extracting text into id/text/label tuple\n",
    "def parseReview(reviewLine):\n",
    "    s=\"\"\n",
    "    if reviewLine[1]==\"__label1__\":\n",
    "        s = \"fake\"\n",
    "    else: \n",
    "        s = \"real\"\n",
    "    return (reviewLine[0], reviewLine[2], reviewLine[3],reviewLine[4], reviewLine[8], s)\n"
   ]
  },
  {
   "cell_type": "code",
   "execution_count": null,
   "metadata": {},
   "outputs": [],
   "source": [
    "# text processing & vector featurization\n",
    "# param: a string of a review\n",
    "table = str.maketrans({key: None for key in string.punctuation})\n",
    "def preProcess(text):\n",
    "    # Should return a list of tokens\n",
    "    lemmatizer = WordNetLemmatizer()\n",
    "    filtered_tokens=[]\n",
    "    lemmatized_tokens = []\n",
    "    stop_words = set(stopwords.words('english'))\n",
    "    text = text.translate(table)\n",
    "    for w in text.split(\" \"):\n",
    "        if w not in stop_words:\n",
    "            lemmatized_tokens.append(lemmatizer.lemmatize(w.lower()))\n",
    "        filtered_tokens = [' '.join(l) for l in nltk.bigrams(lemmatized_tokens)] + lemmatized_tokens\n",
    "    return filtered_tokens"
   ]
  },
  {
   "cell_type": "code",
   "execution_count": null,
   "metadata": {},
   "outputs": [],
   "source": [
    "featureDict = {} # A global dictionary of features\n",
    "\n",
    "def toFeatureVector(Rating, verified_Purchase, product_Category, tokens):\n",
    "    localDict = {}\n",
    "    \n",
    "# review ratting\n",
    "    featureDict[\"R\"] = 1   \n",
    "    localDict[\"R\"] = Rating\n",
    "\n",
    "# verified_purchase\n",
    "    featureDict[\"VP\"] = 1\n",
    "    if verified_Purchase == \"N\":\n",
    "        localDict[\"VP\"] = 0\n",
    "    else:\n",
    "        localDict[\"VP\"] = 1\n",
    "\n",
    "# category\n",
    "    if product_Category not in featureDict:\n",
    "        featureDict[product_Category] = 1\n",
    "    else:\n",
    "        featureDict[product_Category] = +1\n",
    "            \n",
    "    if product_Category not in localDict:\n",
    "        localDict[product_Category] = 1\n",
    "    else:\n",
    "        localDict[product_Category] = +1\n",
    "            \n",
    "            \n",
    "# review string\n",
    "    for token in tokens:\n",
    "        if token not in featureDict:\n",
    "            featureDict[token] = 1\n",
    "        else:\n",
    "            featureDict[token] = +1\n",
    "            \n",
    "        if token not in localDict:\n",
    "            localDict[token] = 1\n",
    "        else:\n",
    "            localDict[token] = +1\n",
    "    \n",
    "    return localDict"
   ]
  },
  {
   "cell_type": "code",
   "execution_count": null,
   "metadata": {},
   "outputs": [],
   "source": [
    "# training the classification\n",
    "\n",
    "rawData = []          \n",
    "preprocessedData = [] \n",
    "trainData = []        \n",
    "testData = []         \n",
    "\n",
    "# labels\n",
    "fakeLabel = 'fake'\n",
    "realLabel = 'real'\n",
    "\n",
    "reviewPath = 'amazon_reviews.txt'\n",
    "\n",
    "## training the program here:\n",
    "print(\"length of data, length of trainSet, length of testSet\" % (len(rawData), len(trainData), len(testData)),sep='\\n')\n",
    "loadData(reviewPath) \n",
    "\n",
    "# split train/test with ratio of 80:20\n",
    "splitData(0.8)\n",
    "\n",
    "# reporting results\n",
    "print(\"length of data, length of trainSet, length of testSet\" % (len(rawData), len(trainData), len(testData)),\n",
    "      \"training samples: \", len(trainData), \"features: \", len(featureDict), sep='\\n')\n",
    "print(\"Mean of cross-validations (Accuracy, Precision, Recall, Fscore): \", crossValidate(trainData, 10))\n"
   ]
  },
  {
   "cell_type": "markdown",
   "metadata": {},
   "source": [
    "### Final testing and recording results"
   ]
  },
  {
   "cell_type": "code",
   "execution_count": null,
   "metadata": {},
   "outputs": [],
   "source": [
    "# Result is here!\n",
    "classifier = trainClassifier(trainData)\n",
    "predictions = predictLabels(testData, classifier)\n",
    "true_labels = list(map(lambda d: d[1], testData))\n",
    "a = accuracy_score(true_labels, predictions)\n",
    "p, r, f1, _ = precision_recall_fscore_support(true_labels, predictions, average='macro')\n",
    "print(\"accuracy: \", a)\n",
    "print(\"Precision: \", p)\n",
    "print(\"Recall: \", a)\n",
    "print(\"f1-score: \", f1)"
   ]
  }
 ],
 "metadata": {
  "kernelspec": {
   "display_name": "Python 3",
   "language": "python",
   "name": "python3"
  },
  "language_info": {
   "codemirror_mode": {
    "name": "ipython",
    "version": 3
   },
   "file_extension": ".py",
   "mimetype": "text/x-python",
   "name": "python",
   "nbconvert_exporter": "python",
   "pygments_lexer": "ipython3",
   "version": "3.7.1"
  }
 },
 "nbformat": 4,
 "nbformat_minor": 2
}
